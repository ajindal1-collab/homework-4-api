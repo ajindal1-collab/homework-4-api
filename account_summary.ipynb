{
 "cells": [
  {
   "cell_type": "code",
   "execution_count": 1,
   "metadata": {},
   "outputs": [],
   "source": [
    "import os\n",
    "import plaid\n",
    "import requests\n",
    "import datetime\n",
    "import json\n",
    "import pandas as pd\n",
    "import matplotlib.pyplot as plt\n",
    "%matplotlib inline"
   ]
  },
  {
   "cell_type": "code",
   "execution_count": 2,
   "metadata": {},
   "outputs": [],
   "source": [
    "def pretty_print_response(response):\n",
    "  print(json.dumps(response, indent=4, sort_keys=True))"
   ]
  },
  {
   "cell_type": "code",
   "execution_count": 3,
   "metadata": {},
   "outputs": [],
   "source": [
    "PLAID_CLIENT_ID = os.getenv('PLAID_CLIENT_ID')\n",
    "PLAID_SECRET = os.getenv('PLAID_SECRET')\n",
    "PLAID_PUBLIC_KEY = os.getenv('PLAID_PUBLIC_KEY')\n",
    "PLAID_ENV = os.getenv('PLAID_ENV', 'sandbox')\n",
    "PLAID_PRODUCTS = os.getenv('PLAID_PRODUCTS', 'transactions')"
   ]
  },
  {
   "cell_type": "code",
   "execution_count": 4,
   "metadata": {},
   "outputs": [
    {
     "data": {
      "text/plain": [
       "str"
      ]
     },
     "execution_count": 4,
     "metadata": {},
     "output_type": "execute_result"
    }
   ],
   "source": [
    "type(PLAID_PUBLIC_KEY)"
   ]
  },
  {
   "cell_type": "markdown",
   "metadata": {},
   "source": [
    "# Plaid Access Token\n",
    "\n",
    "In this section, you will use the plaid-python api to generate the correct authentication tokens to access data in the free developer Sandbox. This mimics how you might connect to your own account or a customer account, but due to privacy issues, this homework will only require connecting to and analyzing the fake data from the developer sandbox that Plaid provides. \n",
    "\n",
    "Complete the following steps to generate an access token:\n",
    "1. Create a client to connect to plaid\n",
    "2. Use the client to generate a public token and request the following items: \n",
    "['transactions', 'income', 'assets']\n",
    "3. Exchange the public token for an access token\n",
    "4. Test the access token by requesting and printing the available test accounts"
   ]
  },
  {
   "cell_type": "markdown",
   "metadata": {},
   "source": [
    "### 1. Create a client to connect to plaid"
   ]
  },
  {
   "cell_type": "code",
   "execution_count": 5,
   "metadata": {},
   "outputs": [
    {
     "data": {
      "text/plain": [
       "{'institutions': [{'country_codes': ['US'],\n",
       "   'credentials': [{'label': 'Username', 'name': 'username', 'type': 'text'},\n",
       "    {'label': 'Password', 'name': 'password', 'type': 'password'}],\n",
       "   'has_mfa': True,\n",
       "   'input_spec': 'fixed',\n",
       "   'institution_id': 'ins_112060',\n",
       "   'mfa': ['code', 'list', 'questions', 'selections'],\n",
       "   'mfa_code_type': 'numeric',\n",
       "   'name': '1st Bank (Broadus, MT) - Personal',\n",
       "   'oauth': False,\n",
       "   'products': ['assets',\n",
       "    'auth',\n",
       "    'balance',\n",
       "    'transactions',\n",
       "    'income',\n",
       "    'identity'],\n",
       "   'routing_numbers': []},\n",
       "  {'country_codes': ['US'],\n",
       "   'credentials': [{'label': 'Username', 'name': 'username', 'type': 'text'},\n",
       "    {'label': 'Password', 'name': 'password', 'type': 'password'}],\n",
       "   'has_mfa': True,\n",
       "   'input_spec': 'fixed',\n",
       "   'institution_id': 'ins_112062',\n",
       "   'mfa': ['code', 'list', 'questions', 'selections'],\n",
       "   'mfa_code_type': 'numeric',\n",
       "   'name': '1st Constitution Bank - Personal',\n",
       "   'oauth': False,\n",
       "   'products': ['assets',\n",
       "    'auth',\n",
       "    'balance',\n",
       "    'transactions',\n",
       "    'income',\n",
       "    'identity'],\n",
       "   'routing_numbers': []}],\n",
       " 'request_id': 'dY2NOjYmigjKDoS',\n",
       " 'total': 11431}"
      ]
     },
     "execution_count": 5,
     "metadata": {},
     "output_type": "execute_result"
    }
   ],
   "source": [
    "client = plaid.Client(client_id=PLAID_CLIENT_ID, secret=PLAID_SECRET, public_key=PLAID_PUBLIC_KEY, environment='sandbox')\n",
    "\n",
    "# Get institutions\n",
    "client.Institutions.get(2)"
   ]
  },
  {
   "cell_type": "markdown",
   "metadata": {},
   "source": [
    "### 2. Generate a public token"
   ]
  },
  {
   "cell_type": "code",
   "execution_count": 6,
   "metadata": {},
   "outputs": [],
   "source": [
    "# Select an institution for processing\n",
    "INSTITUTION_ID = \"ins_109508\""
   ]
  },
  {
   "cell_type": "markdown",
   "metadata": {},
   "source": [
    "### 3. Exchange the public token for an access token"
   ]
  },
  {
   "cell_type": "code",
   "execution_count": 7,
   "metadata": {},
   "outputs": [],
   "source": [
    "# Create public token to be exchanged for institution access token\n",
    "create_tkn_response = client.Sandbox.public_token.create(INSTITUTION_ID, ['transactions','income','assets'])\n",
    "\n",
    "# Exchange public token for access token\n",
    "exchange_response = client.Item.public_token.exchange(create_tkn_response['public_token'])\n",
    "\n",
    "# Store access token as variable\n",
    "access_token = exchange_response['access_token']"
   ]
  },
  {
   "cell_type": "markdown",
   "metadata": {},
   "source": [
    "### 4. Fetch Accounts"
   ]
  },
  {
   "cell_type": "code",
   "execution_count": 8,
   "metadata": {},
   "outputs": [
    {
     "data": {
      "text/plain": [
       "{'accounts': [{'account_id': 'B6Zd76LoVZU31A5j5g4oFj79x1ygZqFwr7DnW',\n",
       "   'balances': {'available': 100,\n",
       "    'current': 110,\n",
       "    'iso_currency_code': 'USD',\n",
       "    'limit': None,\n",
       "    'unofficial_currency_code': None},\n",
       "   'mask': '0000',\n",
       "   'name': 'Plaid Checking',\n",
       "   'official_name': 'Plaid Gold Standard 0% Interest Checking',\n",
       "   'subtype': 'checking',\n",
       "   'type': 'depository'},\n",
       "  {'account_id': '3pbwmpnZ8bSvnGW1WV8gIaX6BbrkN7Cqzwd3J',\n",
       "   'balances': {'available': 200,\n",
       "    'current': 210,\n",
       "    'iso_currency_code': 'USD',\n",
       "    'limit': None,\n",
       "    'unofficial_currency_code': None},\n",
       "   'mask': '1111',\n",
       "   'name': 'Plaid Saving',\n",
       "   'official_name': 'Plaid Silver Standard 0.1% Interest Saving',\n",
       "   'subtype': 'savings',\n",
       "   'type': 'depository'},\n",
       "  {'account_id': 'x7qwz7D6NqT15xAzADmrc59yxzLZrAcn89dvj',\n",
       "   'balances': {'available': None,\n",
       "    'current': 1000,\n",
       "    'iso_currency_code': 'USD',\n",
       "    'limit': None,\n",
       "    'unofficial_currency_code': None},\n",
       "   'mask': '2222',\n",
       "   'name': 'Plaid CD',\n",
       "   'official_name': 'Plaid Bronze Standard 0.2% Interest CD',\n",
       "   'subtype': 'cd',\n",
       "   'type': 'depository'},\n",
       "  {'account_id': 'd5XaQ5MRyXc3bEqlqBvAFk8qxmWBJXsZ7PLep',\n",
       "   'balances': {'available': None,\n",
       "    'current': 410,\n",
       "    'iso_currency_code': 'USD',\n",
       "    'limit': 2000,\n",
       "    'unofficial_currency_code': None},\n",
       "   'mask': '3333',\n",
       "   'name': 'Plaid Credit Card',\n",
       "   'official_name': 'Plaid Diamond 12.5% APR Interest Credit Card',\n",
       "   'subtype': 'credit card',\n",
       "   'type': 'credit'},\n",
       "  {'account_id': 'a5Xyj56RnXc9oljdjG5Xu3ePyr7kwVf7rRALv',\n",
       "   'balances': {'available': 43200,\n",
       "    'current': 43200,\n",
       "    'iso_currency_code': 'USD',\n",
       "    'limit': None,\n",
       "    'unofficial_currency_code': None},\n",
       "   'mask': '4444',\n",
       "   'name': 'Plaid Money Market',\n",
       "   'official_name': 'Plaid Platinum Standard 1.85% Interest Money Market',\n",
       "   'subtype': 'money market',\n",
       "   'type': 'depository'},\n",
       "  {'account_id': '4objlonAEbuw7Gqoqv8VC4ZKaxQXLqfdBgj7q',\n",
       "   'balances': {'available': None,\n",
       "    'current': 320.76,\n",
       "    'iso_currency_code': 'USD',\n",
       "    'limit': None,\n",
       "    'unofficial_currency_code': None},\n",
       "   'mask': '5555',\n",
       "   'name': 'Plaid IRA',\n",
       "   'official_name': None,\n",
       "   'subtype': 'ira',\n",
       "   'type': 'investment'},\n",
       "  {'account_id': 'N5NbW58L4NcAVnmzmdoQCG8n9zeXRaUW9rPmL',\n",
       "   'balances': {'available': None,\n",
       "    'current': 23631.9805,\n",
       "    'iso_currency_code': 'USD',\n",
       "    'limit': None,\n",
       "    'unofficial_currency_code': None},\n",
       "   'mask': '6666',\n",
       "   'name': 'Plaid 401k',\n",
       "   'official_name': None,\n",
       "   'subtype': '401k',\n",
       "   'type': 'investment'},\n",
       "  {'account_id': 'P5WXG5kLPWcqXe838Rn4fxAKen1XQac7gwpZw',\n",
       "   'balances': {'available': None,\n",
       "    'current': 65262,\n",
       "    'iso_currency_code': 'USD',\n",
       "    'limit': None,\n",
       "    'unofficial_currency_code': None},\n",
       "   'mask': '7777',\n",
       "   'name': 'Plaid Student Loan',\n",
       "   'official_name': None,\n",
       "   'subtype': 'student',\n",
       "   'type': 'loan'}],\n",
       " 'item': {'available_products': ['auth',\n",
       "   'balance',\n",
       "   'credit_details',\n",
       "   'identity',\n",
       "   'investments',\n",
       "   'liabilities'],\n",
       "  'billed_products': ['assets', 'income', 'transactions'],\n",
       "  'consent_expiration_time': None,\n",
       "  'error': None,\n",
       "  'institution_id': 'ins_109508',\n",
       "  'item_id': 'N5NbW58L4NcAVnmzmdoQCG8njVwRlyfWDkxB6',\n",
       "  'webhook': ''},\n",
       " 'request_id': 'bh9km3wiyhIsUjn'}"
      ]
     },
     "execution_count": 8,
     "metadata": {},
     "output_type": "execute_result"
    }
   ],
   "source": [
    "client.Accounts.get(access_token)"
   ]
  },
  {
   "cell_type": "code",
   "execution_count": 10,
   "metadata": {},
   "outputs": [
    {
     "data": {
      "text/plain": [
       "{'income': {'income_streams': [{'confidence': 0.99,\n",
       "    'days': 690,\n",
       "    'monthly_income': 500,\n",
       "    'name': 'UNITED AIRLINES'}],\n",
       "  'last_year_income': 6000,\n",
       "  'last_year_income_before_tax': 7285,\n",
       "  'max_number_of_overlapping_income_streams': 1,\n",
       "  'number_of_income_streams': 1,\n",
       "  'projected_yearly_income': 6085,\n",
       "  'projected_yearly_income_before_tax': 7389},\n",
       " 'request_id': 'sLL7LhoAcsqUFgx'}"
      ]
     },
     "execution_count": 10,
     "metadata": {},
     "output_type": "execute_result"
    }
   ],
   "source": [
    "client.Income.get(access_token)"
   ]
  },
  {
   "cell_type": "code",
   "execution_count": null,
   "metadata": {},
   "outputs": [],
   "source": []
  },
  {
   "cell_type": "code",
   "execution_count": null,
   "metadata": {},
   "outputs": [],
   "source": []
  },
  {
   "cell_type": "markdown",
   "metadata": {},
   "source": [
    "---"
   ]
  },
  {
   "cell_type": "markdown",
   "metadata": {},
   "source": [
    "# Account Transactions with Plaid\n",
    "\n",
    "In this section, you will use the Plaid Python SDK to connect to the Developer Sandbox account and grab a list of transactions. You will need to complete the following steps:\n",
    "\n",
    "\n",
    "1. Use the access token to fetch the transactions for the last 90 days\n",
    "2. Print the categories for each transaction type\n",
    "3. Create a new DataFrame using the following fields from the JSON transaction data: `date, name, amount, category`. (For categories with more than one label, just use the first category label in the list)\n",
    "4. Convert the data types to the appropriate types (i.e. datetimeindex for the date and float for the amount)"
   ]
  },
  {
   "cell_type": "markdown",
   "metadata": {},
   "source": [
    "### 1. Fetch the Transactions for the last 90 days"
   ]
  },
  {
   "cell_type": "code",
   "execution_count": 11,
   "metadata": {},
   "outputs": [],
   "source": [
    "# Get transactions for institution for specific date range\n",
    "start_date = '{:%Y-%m-%d}'.format(datetime.datetime.now() + datetime.timedelta(-90))\n",
    "end_date = '{:%Y-%m-%d}'.format(datetime.datetime.now())\n",
    "\n",
    "# start_d = '{:%Y-%m-%d}'.format(datetime.datetime.now() + datetime.timedelta(-365))\n",
    "# end_d = '{:%Y-%m-%d}'.format(datetime.datetime.now())\n",
    "# name = 0\n",
    "# amount = 0\n",
    "# category = 0\n",
    "\n",
    "# Get transactions for date range\n",
    "transaction_response = client.Transactions.get(access_token,start_date,end_date)\n",
    "\n",
    "#do income response \n",
    "income_response = client.Income.get(access_token)\n"
   ]
  },
  {
   "cell_type": "markdown",
   "metadata": {},
   "source": [
    "### 2. Print the categories for each transaction"
   ]
  },
  {
   "cell_type": "code",
   "execution_count": 12,
   "metadata": {},
   "outputs": [
    {
     "data": {
      "text/plain": [
       "'[\\n    {\\n        \"account_id\": \"d5XaQ5MRyXc3bEqlqBvAFk8qxmWBJXsZ7PLep\",\\n        \"account_owner\": null,\\n        \"amount\": 500,\\n        \"authorized_date\": null,\\n        \"category\": [\\n            \"Food and Drink\",\\n            \"Restaurants\"\\n        ],\\n        \"category_id\": \"13005000\",\\n        \"date\": \"2020-04-25\",\\n        \"iso_currency_code\": \"USD\",\\n        \"location\": {\\n            \"address\": null,\\n            \"city\": null,\\n            \"country\": null,\\n            \"lat\": null,\\n            \"lon\": null,\\n            \"postal_code\": null,\\n            \"region\": null,\\n            \"store_number\": null\\n        },\\n        \"name\": \"Tectra Inc\",\\n        \"payment_channel\": \"in store\",\\n        \"payment_meta\": {\\n            \"by_order_of\": null,\\n            \"payee\": null,\\n            \"payer\": null,\\n            \"payment_method\": null,\\n            \"payment_processor\": null,\\n            \"ppd_id\": null,\\n            \"reason\": null,\\n            \"reference_number\": null\\n        },\\n        \"pending\": false,\\n        \"pending_transaction_id\": null,\\n        \"transaction_code\": null,\\n        \"transaction_id\": \"kqDjgqMRVDTzLG7M7aeBUaX49b36MxiWKKr57\",\\n        \"transaction_type\": \"place\",\\n        \"unofficial_currency_code\": null\\n    }\\n]'"
      ]
     },
     "execution_count": 12,
     "metadata": {},
     "output_type": "execute_result"
    }
   ],
   "source": [
    "# Print JSON output\n",
    "json.dumps(transaction_response['transactions'][:1],indent=4, sort_keys=True)\n"
   ]
  },
  {
   "cell_type": "code",
   "execution_count": null,
   "metadata": {},
   "outputs": [],
   "source": []
  },
  {
   "cell_type": "code",
   "execution_count": null,
   "metadata": {},
   "outputs": [],
   "source": []
  },
  {
   "cell_type": "markdown",
   "metadata": {},
   "source": [
    "### 3. Create a new DataFrame using the following fields from the JSON transaction data: date, name, amount, category. \n",
    "\n",
    "(For categories with more than one label, just use the first category label in the list)"
   ]
  },
  {
   "cell_type": "code",
   "execution_count": 13,
   "metadata": {},
   "outputs": [],
   "source": [
    "# Create Empty Lists\n",
    "transactions_date=[]\n",
    "transactions_name=[]\n",
    "transactions_amount=[]\n",
    "transactions_category=[]\n",
    "\n",
    "\n"
   ]
  },
  {
   "cell_type": "code",
   "execution_count": 14,
   "metadata": {},
   "outputs": [
    {
     "name": "stdout",
     "output_type": "stream",
     "text": [
      "['Food and Drink', 'Payment', 'Food and Drink', 'Shops', 'Payment', 'Travel', 'Transfer', 'Transfer', 'Recreation', 'Travel', 'Food and Drink', 'Food and Drink', 'Food and Drink', 'Transfer', 'Travel', 'Travel', 'Food and Drink', 'Payment', 'Food and Drink', 'Shops', 'Payment', 'Travel', 'Transfer', 'Transfer', 'Recreation', 'Travel', 'Food and Drink', 'Food and Drink', 'Food and Drink', 'Transfer', 'Travel', 'Travel', 'Food and Drink', 'Payment', 'Food and Drink', 'Shops', 'Payment', 'Travel', 'Transfer', 'Transfer', 'Recreation', 'Travel', 'Food and Drink', 'Food and Drink', 'Food and Drink', 'Transfer', 'Travel', 'Travel', 'Food and Drink']\n"
     ]
    }
   ],
   "source": [
    "# #append items into list\n",
    "for i in transaction_response['transactions']:\n",
    "    transactions_category.append((i['category'][0]))\n",
    "print(transactions_category)\n",
    "\n",
    "# # type(transactions_category)"
   ]
  },
  {
   "cell_type": "code",
   "execution_count": 15,
   "metadata": {},
   "outputs": [
    {
     "name": "stdout",
     "output_type": "stream",
     "text": [
      "['Tectra Inc', 'AUTOMATIC PAYMENT - THANK', 'KFC', 'Madison Bicycle Shop', 'CREDIT CARD 3333 PAYMENT *//', 'Uber', 'ACH Electronic CreditGUSTO PAY 123456', 'CD DEPOSIT .INITIAL.', 'Touchstone Climbing', 'United Airlines', \"McDonald's\", 'Starbucks', 'SparkFun', 'INTRST PYMNT', 'United Airlines', 'Uber', 'Tectra Inc', 'AUTOMATIC PAYMENT - THANK', 'KFC', 'Madison Bicycle Shop', 'CREDIT CARD 3333 PAYMENT *//', 'Uber', 'ACH Electronic CreditGUSTO PAY 123456', 'CD DEPOSIT .INITIAL.', 'Touchstone Climbing', 'United Airlines', \"McDonald's\", 'Starbucks', 'SparkFun', 'INTRST PYMNT', 'United Airlines', 'Uber', 'Tectra Inc', 'AUTOMATIC PAYMENT - THANK', 'KFC', 'Madison Bicycle Shop', 'CREDIT CARD 3333 PAYMENT *//', 'Uber', 'ACH Electronic CreditGUSTO PAY 123456', 'CD DEPOSIT .INITIAL.', 'Touchstone Climbing', 'United Airlines', \"McDonald's\", 'Starbucks', 'SparkFun', 'INTRST PYMNT', 'United Airlines', 'Uber', 'Tectra Inc']\n"
     ]
    }
   ],
   "source": [
    "for i in transaction_response['transactions']:\n",
    "#     print (i['name'])\n",
    "    transactions_name.append((i['name']))\n",
    "print(transactions_name)"
   ]
  },
  {
   "cell_type": "code",
   "execution_count": 16,
   "metadata": {},
   "outputs": [],
   "source": [
    "# #Append name into list\n",
    "# for i in transaction_response['transactions']:\n",
    "#     transactions_name.append(json.dumps(i['name']))\n",
    "# print(transactions_name)"
   ]
  },
  {
   "cell_type": "code",
   "execution_count": 17,
   "metadata": {},
   "outputs": [
    {
     "name": "stdout",
     "output_type": "stream",
     "text": [
      "[500, 2078.5, 500, 500, 25, 5.4, 5850, 1000, 78.5, -500, 12, 4.33, 89.4, -4.22, 500, 6.33, 500, 2078.5, 500, 500, 25, 5.4, 5850, 1000, 78.5, -500, 12, 4.33, 89.4, -4.22, 500, 6.33, 500, 2078.5, 500, 500, 25, 5.4, 5850, 1000, 78.5, -500, 12, 4.33, 89.4, -4.22, 500, 6.33, 500]\n"
     ]
    }
   ],
   "source": [
    "#Append amount into list\n",
    "for i in transaction_response['transactions']:\n",
    "    transactions_amount.append((i['amount']))\n",
    "print(transactions_amount)"
   ]
  },
  {
   "cell_type": "code",
   "execution_count": 18,
   "metadata": {},
   "outputs": [
    {
     "name": "stdout",
     "output_type": "stream",
     "text": [
      "['2020-04-25', '2020-04-24', '2020-04-24', '2020-04-24', '2020-04-15', '2020-04-15', '2020-04-14', '2020-04-14', '2020-04-13', '2020-04-13', '2020-04-12', '2020-04-12', '2020-04-11', '2020-04-10', '2020-03-31', '2020-03-29', '2020-03-26', '2020-03-25', '2020-03-25', '2020-03-25', '2020-03-16', '2020-03-16', '2020-03-15', '2020-03-15', '2020-03-14', '2020-03-14', '2020-03-13', '2020-03-13', '2020-03-12', '2020-03-11', '2020-03-01', '2020-02-28', '2020-02-25', '2020-02-24', '2020-02-24', '2020-02-24', '2020-02-15', '2020-02-15', '2020-02-14', '2020-02-14', '2020-02-13', '2020-02-13', '2020-02-12', '2020-02-12', '2020-02-11', '2020-02-10', '2020-01-31', '2020-01-29', '2020-01-26']\n"
     ]
    }
   ],
   "source": [
    "#Append date into list\n",
    "for i in transaction_response['transactions']:\n",
    "    transactions_date.append((i['date']))\n",
    "print(transactions_date)"
   ]
  },
  {
   "cell_type": "code",
   "execution_count": 19,
   "metadata": {},
   "outputs": [],
   "source": [
    "account_df = pd.DataFrame()"
   ]
  },
  {
   "cell_type": "code",
   "execution_count": 20,
   "metadata": {},
   "outputs": [
    {
     "data": {
      "text/plain": [
       "list"
      ]
     },
     "execution_count": 20,
     "metadata": {},
     "output_type": "execute_result"
    }
   ],
   "source": [
    "type(transactions_date)\n"
   ]
  },
  {
   "cell_type": "code",
   "execution_count": null,
   "metadata": {},
   "outputs": [],
   "source": []
  },
  {
   "cell_type": "code",
   "execution_count": 21,
   "metadata": {},
   "outputs": [
    {
     "data": {
      "text/html": [
       "<div>\n",
       "<style scoped>\n",
       "    .dataframe tbody tr th:only-of-type {\n",
       "        vertical-align: middle;\n",
       "    }\n",
       "\n",
       "    .dataframe tbody tr th {\n",
       "        vertical-align: top;\n",
       "    }\n",
       "\n",
       "    .dataframe thead th {\n",
       "        text-align: right;\n",
       "    }\n",
       "</style>\n",
       "<table border=\"1\" class=\"dataframe\">\n",
       "  <thead>\n",
       "    <tr style=\"text-align: right;\">\n",
       "      <th></th>\n",
       "      <th>0</th>\n",
       "      <th>1</th>\n",
       "      <th>2</th>\n",
       "      <th>3</th>\n",
       "      <th>4</th>\n",
       "      <th>5</th>\n",
       "      <th>6</th>\n",
       "      <th>7</th>\n",
       "      <th>8</th>\n",
       "      <th>9</th>\n",
       "      <th>...</th>\n",
       "      <th>39</th>\n",
       "      <th>40</th>\n",
       "      <th>41</th>\n",
       "      <th>42</th>\n",
       "      <th>43</th>\n",
       "      <th>44</th>\n",
       "      <th>45</th>\n",
       "      <th>46</th>\n",
       "      <th>47</th>\n",
       "      <th>48</th>\n",
       "    </tr>\n",
       "  </thead>\n",
       "  <tbody>\n",
       "    <tr>\n",
       "      <th>0</th>\n",
       "      <td>Tectra Inc</td>\n",
       "      <td>AUTOMATIC PAYMENT - THANK</td>\n",
       "      <td>KFC</td>\n",
       "      <td>Madison Bicycle Shop</td>\n",
       "      <td>CREDIT CARD 3333 PAYMENT *//</td>\n",
       "      <td>Uber</td>\n",
       "      <td>ACH Electronic CreditGUSTO PAY 123456</td>\n",
       "      <td>CD DEPOSIT .INITIAL.</td>\n",
       "      <td>Touchstone Climbing</td>\n",
       "      <td>United Airlines</td>\n",
       "      <td>...</td>\n",
       "      <td>CD DEPOSIT .INITIAL.</td>\n",
       "      <td>Touchstone Climbing</td>\n",
       "      <td>United Airlines</td>\n",
       "      <td>McDonald's</td>\n",
       "      <td>Starbucks</td>\n",
       "      <td>SparkFun</td>\n",
       "      <td>INTRST PYMNT</td>\n",
       "      <td>United Airlines</td>\n",
       "      <td>Uber</td>\n",
       "      <td>Tectra Inc</td>\n",
       "    </tr>\n",
       "    <tr>\n",
       "      <th>1</th>\n",
       "      <td>Food and Drink</td>\n",
       "      <td>Payment</td>\n",
       "      <td>Food and Drink</td>\n",
       "      <td>Shops</td>\n",
       "      <td>Payment</td>\n",
       "      <td>Travel</td>\n",
       "      <td>Transfer</td>\n",
       "      <td>Transfer</td>\n",
       "      <td>Recreation</td>\n",
       "      <td>Travel</td>\n",
       "      <td>...</td>\n",
       "      <td>Transfer</td>\n",
       "      <td>Recreation</td>\n",
       "      <td>Travel</td>\n",
       "      <td>Food and Drink</td>\n",
       "      <td>Food and Drink</td>\n",
       "      <td>Food and Drink</td>\n",
       "      <td>Transfer</td>\n",
       "      <td>Travel</td>\n",
       "      <td>Travel</td>\n",
       "      <td>Food and Drink</td>\n",
       "    </tr>\n",
       "    <tr>\n",
       "      <th>2</th>\n",
       "      <td>500</td>\n",
       "      <td>2078.5</td>\n",
       "      <td>500</td>\n",
       "      <td>500</td>\n",
       "      <td>25</td>\n",
       "      <td>5.4</td>\n",
       "      <td>5850</td>\n",
       "      <td>1000</td>\n",
       "      <td>78.5</td>\n",
       "      <td>-500</td>\n",
       "      <td>...</td>\n",
       "      <td>1000</td>\n",
       "      <td>78.5</td>\n",
       "      <td>-500</td>\n",
       "      <td>12</td>\n",
       "      <td>4.33</td>\n",
       "      <td>89.4</td>\n",
       "      <td>-4.22</td>\n",
       "      <td>500</td>\n",
       "      <td>6.33</td>\n",
       "      <td>500</td>\n",
       "    </tr>\n",
       "    <tr>\n",
       "      <th>3</th>\n",
       "      <td>2020-04-25</td>\n",
       "      <td>2020-04-24</td>\n",
       "      <td>2020-04-24</td>\n",
       "      <td>2020-04-24</td>\n",
       "      <td>2020-04-15</td>\n",
       "      <td>2020-04-15</td>\n",
       "      <td>2020-04-14</td>\n",
       "      <td>2020-04-14</td>\n",
       "      <td>2020-04-13</td>\n",
       "      <td>2020-04-13</td>\n",
       "      <td>...</td>\n",
       "      <td>2020-02-14</td>\n",
       "      <td>2020-02-13</td>\n",
       "      <td>2020-02-13</td>\n",
       "      <td>2020-02-12</td>\n",
       "      <td>2020-02-12</td>\n",
       "      <td>2020-02-11</td>\n",
       "      <td>2020-02-10</td>\n",
       "      <td>2020-01-31</td>\n",
       "      <td>2020-01-29</td>\n",
       "      <td>2020-01-26</td>\n",
       "    </tr>\n",
       "  </tbody>\n",
       "</table>\n",
       "<p>4 rows × 49 columns</p>\n",
       "</div>"
      ],
      "text/plain": [
       "               0                          1               2   \\\n",
       "0      Tectra Inc  AUTOMATIC PAYMENT - THANK             KFC   \n",
       "1  Food and Drink                    Payment  Food and Drink   \n",
       "2             500                     2078.5             500   \n",
       "3      2020-04-25                 2020-04-24      2020-04-24   \n",
       "\n",
       "                     3                             4           5   \\\n",
       "0  Madison Bicycle Shop  CREDIT CARD 3333 PAYMENT *//        Uber   \n",
       "1                 Shops                       Payment      Travel   \n",
       "2                   500                            25         5.4   \n",
       "3            2020-04-24                    2020-04-15  2020-04-15   \n",
       "\n",
       "                                      6                     7   \\\n",
       "0  ACH Electronic CreditGUSTO PAY 123456  CD DEPOSIT .INITIAL.   \n",
       "1                               Transfer              Transfer   \n",
       "2                                   5850                  1000   \n",
       "3                             2020-04-14            2020-04-14   \n",
       "\n",
       "                    8                9   ...                    39  \\\n",
       "0  Touchstone Climbing  United Airlines  ...  CD DEPOSIT .INITIAL.   \n",
       "1           Recreation           Travel  ...              Transfer   \n",
       "2                 78.5             -500  ...                  1000   \n",
       "3           2020-04-13       2020-04-13  ...            2020-02-14   \n",
       "\n",
       "                    40               41              42              43  \\\n",
       "0  Touchstone Climbing  United Airlines      McDonald's       Starbucks   \n",
       "1           Recreation           Travel  Food and Drink  Food and Drink   \n",
       "2                 78.5             -500              12            4.33   \n",
       "3           2020-02-13       2020-02-13      2020-02-12      2020-02-12   \n",
       "\n",
       "               44            45               46          47              48  \n",
       "0        SparkFun  INTRST PYMNT  United Airlines        Uber      Tectra Inc  \n",
       "1  Food and Drink      Transfer           Travel      Travel  Food and Drink  \n",
       "2            89.4         -4.22              500        6.33             500  \n",
       "3      2020-02-11    2020-02-10       2020-01-31  2020-01-29      2020-01-26  \n",
       "\n",
       "[4 rows x 49 columns]"
      ]
     },
     "execution_count": 21,
     "metadata": {},
     "output_type": "execute_result"
    }
   ],
   "source": [
    "#create an empty dataframe\n",
    "account_df = pd.DataFrame([transactions_name,transactions_category, transactions_amount, transactions_date])\n",
    "account_df.head()"
   ]
  },
  {
   "cell_type": "code",
   "execution_count": 22,
   "metadata": {},
   "outputs": [],
   "source": [
    "results = account_df.transpose()\n"
   ]
  },
  {
   "cell_type": "code",
   "execution_count": 23,
   "metadata": {},
   "outputs": [],
   "source": [
    "results.columns = ['Name', \"Category\", 'Amount', 'Date']\n",
    "# print(results)\n",
    "\n"
   ]
  },
  {
   "cell_type": "code",
   "execution_count": 24,
   "metadata": {},
   "outputs": [],
   "source": [
    "#Put Name as a string\n",
    "results['Name'] = results['Name'].astype('str')"
   ]
  },
  {
   "cell_type": "code",
   "execution_count": 25,
   "metadata": {},
   "outputs": [],
   "source": [
    "#Put category as a string\n",
    "results['Category'] = results['Category'].astype('str')"
   ]
  },
  {
   "cell_type": "code",
   "execution_count": 26,
   "metadata": {},
   "outputs": [],
   "source": [
    "#Put amount as a float\n",
    "results['Amount'] = results['Amount'].astype('float')"
   ]
  },
  {
   "cell_type": "code",
   "execution_count": 27,
   "metadata": {},
   "outputs": [],
   "source": [
    "results['Date'] = results['Date'].str.replace(\"\",'')\n",
    "results['Date'] = results['Date'].astype('str')\n",
    "\n",
    "\n",
    "# results['Category'] = results['Category'].str.replace(\"\",'')\n",
    "# results['Date'].str.replace(\" \",'-')\n"
   ]
  },
  {
   "cell_type": "code",
   "execution_count": 28,
   "metadata": {},
   "outputs": [],
   "source": [
    "#Put date in datetimeformat\n",
    "results['Date'] = results['Date'].apply(pd.to_datetime)"
   ]
  },
  {
   "cell_type": "code",
   "execution_count": 29,
   "metadata": {},
   "outputs": [
    {
     "data": {
      "text/html": [
       "<div>\n",
       "<style scoped>\n",
       "    .dataframe tbody tr th:only-of-type {\n",
       "        vertical-align: middle;\n",
       "    }\n",
       "\n",
       "    .dataframe tbody tr th {\n",
       "        vertical-align: top;\n",
       "    }\n",
       "\n",
       "    .dataframe thead th {\n",
       "        text-align: right;\n",
       "    }\n",
       "</style>\n",
       "<table border=\"1\" class=\"dataframe\">\n",
       "  <thead>\n",
       "    <tr style=\"text-align: right;\">\n",
       "      <th></th>\n",
       "      <th>Name</th>\n",
       "      <th>Category</th>\n",
       "      <th>Amount</th>\n",
       "      <th>Date</th>\n",
       "    </tr>\n",
       "  </thead>\n",
       "  <tbody>\n",
       "    <tr>\n",
       "      <th>0</th>\n",
       "      <td>Tectra Inc</td>\n",
       "      <td>Food and Drink</td>\n",
       "      <td>500.0</td>\n",
       "      <td>2020-04-25</td>\n",
       "    </tr>\n",
       "    <tr>\n",
       "      <th>1</th>\n",
       "      <td>AUTOMATIC PAYMENT - THANK</td>\n",
       "      <td>Payment</td>\n",
       "      <td>2078.5</td>\n",
       "      <td>2020-04-24</td>\n",
       "    </tr>\n",
       "    <tr>\n",
       "      <th>2</th>\n",
       "      <td>KFC</td>\n",
       "      <td>Food and Drink</td>\n",
       "      <td>500.0</td>\n",
       "      <td>2020-04-24</td>\n",
       "    </tr>\n",
       "    <tr>\n",
       "      <th>3</th>\n",
       "      <td>Madison Bicycle Shop</td>\n",
       "      <td>Shops</td>\n",
       "      <td>500.0</td>\n",
       "      <td>2020-04-24</td>\n",
       "    </tr>\n",
       "    <tr>\n",
       "      <th>4</th>\n",
       "      <td>CREDIT CARD 3333 PAYMENT *//</td>\n",
       "      <td>Payment</td>\n",
       "      <td>25.0</td>\n",
       "      <td>2020-04-15</td>\n",
       "    </tr>\n",
       "  </tbody>\n",
       "</table>\n",
       "</div>"
      ],
      "text/plain": [
       "                           Name        Category  Amount       Date\n",
       "0                    Tectra Inc  Food and Drink   500.0 2020-04-25\n",
       "1     AUTOMATIC PAYMENT - THANK         Payment  2078.5 2020-04-24\n",
       "2                           KFC  Food and Drink   500.0 2020-04-24\n",
       "3          Madison Bicycle Shop           Shops   500.0 2020-04-24\n",
       "4  CREDIT CARD 3333 PAYMENT *//         Payment    25.0 2020-04-15"
      ]
     },
     "execution_count": 29,
     "metadata": {},
     "output_type": "execute_result"
    }
   ],
   "source": [
    "# results_df = pd.DataFrame(results)\n",
    "results.head()"
   ]
  },
  {
   "cell_type": "code",
   "execution_count": null,
   "metadata": {},
   "outputs": [],
   "source": [
    "results.groupby('Category').Amount.sum()"
   ]
  },
  {
   "cell_type": "markdown",
   "metadata": {},
   "source": [
    "### 4. Convert the data types to the appropriate types \n",
    "\n",
    "(i.e. datetimeindex for the date and float for the amount)"
   ]
  },
  {
   "cell_type": "code",
   "execution_count": 30,
   "metadata": {},
   "outputs": [
    {
     "data": {
      "text/plain": [
       "Name                object\n",
       "Category            object\n",
       "Amount             float64\n",
       "Date        datetime64[ns]\n",
       "dtype: object"
      ]
     },
     "execution_count": 30,
     "metadata": {},
     "output_type": "execute_result"
    }
   ],
   "source": [
    "results.dtypes"
   ]
  },
  {
   "cell_type": "code",
   "execution_count": null,
   "metadata": {},
   "outputs": [],
   "source": []
  },
  {
   "cell_type": "markdown",
   "metadata": {},
   "source": [
    "---"
   ]
  },
  {
   "cell_type": "markdown",
   "metadata": {},
   "source": [
    "# Income Analysis with Plaid\n",
    "\n",
    "In this section, you will use the Plaid Sandbox to complete the following:\n",
    "1. Determine the previous year's gross income and print the results\n",
    "2. Determine the current monthly income and print the results\n",
    "3. Determine the projected yearly income and print the results"
   ]
  },
  {
   "cell_type": "code",
   "execution_count": 31,
   "metadata": {},
   "outputs": [
    {
     "data": {
      "text/plain": [
       "'{\\n    \"income_streams\": [\\n        {\\n            \"confidence\": 0.99,\\n            \"days\": 690,\\n            \"monthly_income\": 500,\\n            \"name\": \"UNITED AIRLINES\"\\n        }\\n    ],\\n    \"last_year_income\": 6000,\\n    \"last_year_income_before_tax\": 7285,\\n    \"max_number_of_overlapping_income_streams\": 1,\\n    \"number_of_income_streams\": 1,\\n    \"projected_yearly_income\": 6085,\\n    \"projected_yearly_income_before_tax\": 7389\\n}'"
      ]
     },
     "execution_count": 31,
     "metadata": {},
     "output_type": "execute_result"
    }
   ],
   "source": [
    "# Print JSON output\n",
    "json.dumps(income_response['income'],indent=4, sort_keys=True)\n"
   ]
  },
  {
   "cell_type": "code",
   "execution_count": 32,
   "metadata": {},
   "outputs": [
    {
     "data": {
      "text/plain": [
       "dict"
      ]
     },
     "execution_count": 32,
     "metadata": {},
     "output_type": "execute_result"
    }
   ],
   "source": [
    "type(income_response)"
   ]
  },
  {
   "cell_type": "code",
   "execution_count": 33,
   "metadata": {},
   "outputs": [
    {
     "name": "stdout",
     "output_type": "stream",
     "text": [
      "{\n",
      "    \"income_streams\": [\n",
      "        {\n",
      "            \"confidence\": 0.99,\n",
      "            \"days\": 690,\n",
      "            \"monthly_income\": 500,\n",
      "            \"name\": \"UNITED AIRLINES\"\n",
      "        }\n",
      "    ],\n",
      "    \"last_year_income\": 6000,\n",
      "    \"last_year_income_before_tax\": 7285,\n",
      "    \"max_number_of_overlapping_income_streams\": 1,\n",
      "    \"number_of_income_streams\": 1,\n",
      "    \"projected_yearly_income\": 6085,\n",
      "    \"projected_yearly_income_before_tax\": 7389\n",
      "}\n"
     ]
    }
   ],
   "source": [
    "pretty_print_response(client.Income.get(access_token)['income'])"
   ]
  },
  {
   "cell_type": "code",
   "execution_count": 34,
   "metadata": {},
   "outputs": [
    {
     "name": "stdout",
     "output_type": "stream",
     "text": [
      "6000\n"
     ]
    }
   ],
   "source": [
    "previous_income = client.Income.get(access_token)['income']['last_year_income']\n",
    "print(previous_income)"
   ]
  },
  {
   "cell_type": "code",
   "execution_count": 35,
   "metadata": {},
   "outputs": [
    {
     "name": "stdout",
     "output_type": "stream",
     "text": [
      "500\n"
     ]
    }
   ],
   "source": [
    "current_monthly_income = client.Income.get(access_token)['income']['income_streams'][0]['monthly_income']\n",
    "print(current_monthly_income)"
   ]
  },
  {
   "cell_type": "code",
   "execution_count": 36,
   "metadata": {},
   "outputs": [
    {
     "name": "stdout",
     "output_type": "stream",
     "text": [
      "6085\n"
     ]
    }
   ],
   "source": [
    "projected_income = client.Income.get(access_token)['income']['projected_yearly_income']\n",
    "print(projected_income)"
   ]
  },
  {
   "cell_type": "markdown",
   "metadata": {},
   "source": [
    "---"
   ]
  },
  {
   "cell_type": "markdown",
   "metadata": {},
   "source": [
    "# Budget Analysis\n",
    "In this section, you will use the transactions DataFrame to analyze the customer's budget\n",
    "\n",
    "1. Calculate the total spending per category and print the results (Hint: groupby or count transactions per category)\n",
    "2. Generate a bar chart with the number of transactions for each category \n",
    "3. Calculate the expenses per month\n",
    "4. Plot the total expenses per month"
   ]
  },
  {
   "cell_type": "markdown",
   "metadata": {},
   "source": [
    "### Calculate the expenses per category"
   ]
  },
  {
   "cell_type": "code",
   "execution_count": 37,
   "metadata": {},
   "outputs": [
    {
     "name": "stdout",
     "output_type": "stream",
     "text": [
      "['Food and Drink', 'Payment', 'Food and Drink', 'Shops', 'Payment', 'Travel', 'Transfer', 'Transfer', 'Recreation', 'Travel', 'Food and Drink', 'Food and Drink', 'Food and Drink', 'Transfer', 'Travel', 'Travel', 'Food and Drink', 'Payment', 'Food and Drink', 'Shops', 'Payment', 'Travel', 'Transfer', 'Transfer', 'Recreation', 'Travel', 'Food and Drink', 'Food and Drink', 'Food and Drink', 'Transfer', 'Travel', 'Travel', 'Food and Drink', 'Payment', 'Food and Drink', 'Shops', 'Payment', 'Travel', 'Transfer', 'Transfer', 'Recreation', 'Travel', 'Food and Drink', 'Food and Drink', 'Food and Drink', 'Transfer', 'Travel', 'Travel', 'Food and Drink']\n"
     ]
    },
    {
     "data": {
      "text/plain": [
       "list"
      ]
     },
     "execution_count": 37,
     "metadata": {},
     "output_type": "execute_result"
    }
   ],
   "source": [
    "\n",
    "print(transactions_category)\n",
    "type(transactions_category)"
   ]
  },
  {
   "cell_type": "code",
   "execution_count": 38,
   "metadata": {},
   "outputs": [
    {
     "name": "stdout",
     "output_type": "stream",
     "text": [
      "16\n"
     ]
    }
   ],
   "source": [
    "count = transactions_category.count('Food and Drink')\n",
    "print(count)"
   ]
  },
  {
   "cell_type": "code",
   "execution_count": 39,
   "metadata": {},
   "outputs": [
    {
     "name": "stdout",
     "output_type": "stream",
     "text": [
      "6\n"
     ]
    }
   ],
   "source": [
    "count = transactions_category.count('Payment')\n",
    "print(count)"
   ]
  },
  {
   "cell_type": "code",
   "execution_count": 40,
   "metadata": {},
   "outputs": [
    {
     "name": "stdout",
     "output_type": "stream",
     "text": [
      "3\n"
     ]
    }
   ],
   "source": [
    "count = transactions_category.count('Shops')\n",
    "print(count)"
   ]
  },
  {
   "cell_type": "code",
   "execution_count": 41,
   "metadata": {},
   "outputs": [
    {
     "name": "stdout",
     "output_type": "stream",
     "text": [
      "12\n"
     ]
    }
   ],
   "source": [
    "count = transactions_category.count('Travel')\n",
    "print(count)"
   ]
  },
  {
   "cell_type": "code",
   "execution_count": 42,
   "metadata": {},
   "outputs": [
    {
     "name": "stdout",
     "output_type": "stream",
     "text": [
      "9\n"
     ]
    }
   ],
   "source": [
    "count = transactions_category.count('Transfer')\n",
    "print(count)"
   ]
  },
  {
   "cell_type": "code",
   "execution_count": 43,
   "metadata": {},
   "outputs": [
    {
     "name": "stdout",
     "output_type": "stream",
     "text": [
      "3\n"
     ]
    }
   ],
   "source": [
    "count = transactions_category.count('Recreation')\n",
    "print(count)"
   ]
  },
  {
   "cell_type": "code",
   "execution_count": 58,
   "metadata": {},
   "outputs": [
    {
     "data": {
      "text/plain": [
       "Category\n",
       "Food and Drink     3817.19\n",
       "Payment            6310.50\n",
       "Recreation          235.50\n",
       "Shops              1500.00\n",
       "Transfer          20537.34\n",
       "Travel               35.19\n",
       "Name: Amount, dtype: float64"
      ]
     },
     "execution_count": 58,
     "metadata": {},
     "output_type": "execute_result"
    }
   ],
   "source": [
    "results.groupby('Category').Amount.sum()"
   ]
  },
  {
   "cell_type": "code",
   "execution_count": 59,
   "metadata": {},
   "outputs": [
    {
     "data": {
      "text/plain": [
       "Category\n",
       "Food and Drink    16\n",
       "Payment            6\n",
       "Recreation         3\n",
       "Shops              3\n",
       "Transfer           9\n",
       "Travel            12\n",
       "Name: Amount, dtype: int64"
      ]
     },
     "execution_count": 59,
     "metadata": {},
     "output_type": "execute_result"
    }
   ],
   "source": [
    "results_bar = results.groupby('Category').Amount.count()\n",
    "results_bar"
   ]
  },
  {
   "cell_type": "code",
   "execution_count": 60,
   "metadata": {},
   "outputs": [
    {
     "data": {
      "text/plain": [
       "<matplotlib.axes._subplots.AxesSubplot at 0x1dd95bd3808>"
      ]
     },
     "execution_count": 60,
     "metadata": {},
     "output_type": "execute_result"
    },
    {
     "data": {
      "image/png": "[encoded data removed]",
      "text/plain": [
       "<Figure size 432x288 with 1 Axes>"
      ]
     },
     "metadata": {
      "needs_background": "light"
     },
     "output_type": "display_data"
    }
   ],
   "source": [
    "# results_bar.plot(kind='hist', bins=10)\n",
    "results_bar.plot.bar() "
   ]
  },
  {
   "cell_type": "code",
   "execution_count": 67,
   "metadata": {},
   "outputs": [],
   "source": [
    "# # # Create a pie chart\n",
    "# plt.pie(results_bar, labels=results_bar['Category'])\n",
    "# # View the plot drop above\n",
    "# plt.axis('equal')\n",
    "# # View the plot\n",
    "# plt.show()"
   ]
  },
  {
   "cell_type": "code",
   "execution_count": null,
   "metadata": {},
   "outputs": [],
   "source": [
    "# labels = results.index\n",
    "# colors = ['lightskyblue', 'red', 'blue', 'green', 'gold','yellow']\n",
    "# plt.pie(results['Category'], labels= labels, colors=colors, startangle=90, autopct='%.1f%%')\n",
    "# plt.show()"
   ]
  },
  {
   "cell_type": "markdown",
   "metadata": {},
   "source": [
    "### Calculate the expenses per month"
   ]
  },
  {
   "cell_type": "code",
   "execution_count": null,
   "metadata": {},
   "outputs": [],
   "source": [
    "# YOUR CODE HERE"
   ]
  }
 ],
 "metadata": {
  "kernel_info": {
   "name": "dev"
  },
  "kernelspec": {
   "display_name": "Python 3",
   "language": "python",
   "name": "python3"
  },
  "language_info": {
   "codemirror_mode": {
    "name": "ipython",
    "version": 3
   },
   "file_extension": ".py",
   "mimetype": "text/x-python",
   "name": "python",
   "nbconvert_exporter": "python",
   "pygments_lexer": "ipython3",
   "version": "3.7.4"
  },
  "nteract": {
   "version": "0.12.3"
  }
 },
 "nbformat": 4,
 "nbformat_minor": 4
}
